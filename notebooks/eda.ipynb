{
 "cells": [
  {
   "cell_type": "code",
   "execution_count": 136,
   "metadata": {},
   "outputs": [],
   "source": [
    "import pandas as pd\n",
    "import matplotlib.pyplot as plt\n",
    "import seaborn as sns\n",
    "import numpy as np\n",
    "from sklearn.model_selection import StratifiedShuffleSplit\n",
    "from sklearn.metrics import classification_report\n",
    "from sklearn.metrics import roc_curve, auc, recall_score\n"
   ]
  },
  {
   "cell_type": "code",
   "execution_count": 53,
   "metadata": {},
   "outputs": [
    {
     "data": {
      "text/html": "<div>\n<style scoped>\n    .dataframe tbody tr th:only-of-type {\n        vertical-align: middle;\n    }\n\n    .dataframe tbody tr th {\n        vertical-align: top;\n    }\n\n    .dataframe thead th {\n        text-align: right;\n    }\n</style>\n<table border=\"1\" class=\"dataframe\">\n  <thead>\n    <tr style=\"text-align: right;\">\n      <th></th>\n      <th>Time</th>\n      <th>V1</th>\n      <th>V2</th>\n      <th>V3</th>\n      <th>V4</th>\n      <th>V5</th>\n      <th>V6</th>\n      <th>V7</th>\n      <th>V8</th>\n      <th>V9</th>\n      <th>...</th>\n      <th>V21</th>\n      <th>V22</th>\n      <th>V23</th>\n      <th>V24</th>\n      <th>V25</th>\n      <th>V26</th>\n      <th>V27</th>\n      <th>V28</th>\n      <th>Amount</th>\n      <th>Class</th>\n    </tr>\n  </thead>\n  <tbody>\n    <tr>\n      <th>0</th>\n      <td>0.0</td>\n      <td>-1.359807</td>\n      <td>-0.072781</td>\n      <td>2.536347</td>\n      <td>1.378155</td>\n      <td>-0.338321</td>\n      <td>0.462388</td>\n      <td>0.239599</td>\n      <td>0.098698</td>\n      <td>0.363787</td>\n      <td>...</td>\n      <td>-0.018307</td>\n      <td>0.277838</td>\n      <td>-0.110474</td>\n      <td>0.066928</td>\n      <td>0.128539</td>\n      <td>-0.189115</td>\n      <td>0.133558</td>\n      <td>-0.021053</td>\n      <td>149.62</td>\n      <td>0</td>\n    </tr>\n    <tr>\n      <th>1</th>\n      <td>0.0</td>\n      <td>1.191857</td>\n      <td>0.266151</td>\n      <td>0.166480</td>\n      <td>0.448154</td>\n      <td>0.060018</td>\n      <td>-0.082361</td>\n      <td>-0.078803</td>\n      <td>0.085102</td>\n      <td>-0.255425</td>\n      <td>...</td>\n      <td>-0.225775</td>\n      <td>-0.638672</td>\n      <td>0.101288</td>\n      <td>-0.339846</td>\n      <td>0.167170</td>\n      <td>0.125895</td>\n      <td>-0.008983</td>\n      <td>0.014724</td>\n      <td>2.69</td>\n      <td>0</td>\n    </tr>\n    <tr>\n      <th>2</th>\n      <td>1.0</td>\n      <td>-1.358354</td>\n      <td>-1.340163</td>\n      <td>1.773209</td>\n      <td>0.379780</td>\n      <td>-0.503198</td>\n      <td>1.800499</td>\n      <td>0.791461</td>\n      <td>0.247676</td>\n      <td>-1.514654</td>\n      <td>...</td>\n      <td>0.247998</td>\n      <td>0.771679</td>\n      <td>0.909412</td>\n      <td>-0.689281</td>\n      <td>-0.327642</td>\n      <td>-0.139097</td>\n      <td>-0.055353</td>\n      <td>-0.059752</td>\n      <td>378.66</td>\n      <td>0</td>\n    </tr>\n    <tr>\n      <th>3</th>\n      <td>1.0</td>\n      <td>-0.966272</td>\n      <td>-0.185226</td>\n      <td>1.792993</td>\n      <td>-0.863291</td>\n      <td>-0.010309</td>\n      <td>1.247203</td>\n      <td>0.237609</td>\n      <td>0.377436</td>\n      <td>-1.387024</td>\n      <td>...</td>\n      <td>-0.108300</td>\n      <td>0.005274</td>\n      <td>-0.190321</td>\n      <td>-1.175575</td>\n      <td>0.647376</td>\n      <td>-0.221929</td>\n      <td>0.062723</td>\n      <td>0.061458</td>\n      <td>123.50</td>\n      <td>0</td>\n    </tr>\n    <tr>\n      <th>4</th>\n      <td>2.0</td>\n      <td>-1.158233</td>\n      <td>0.877737</td>\n      <td>1.548718</td>\n      <td>0.403034</td>\n      <td>-0.407193</td>\n      <td>0.095921</td>\n      <td>0.592941</td>\n      <td>-0.270533</td>\n      <td>0.817739</td>\n      <td>...</td>\n      <td>-0.009431</td>\n      <td>0.798278</td>\n      <td>-0.137458</td>\n      <td>0.141267</td>\n      <td>-0.206010</td>\n      <td>0.502292</td>\n      <td>0.219422</td>\n      <td>0.215153</td>\n      <td>69.99</td>\n      <td>0</td>\n    </tr>\n  </tbody>\n</table>\n<p>5 rows × 31 columns</p>\n</div>",
      "text/plain": "   Time        V1        V2        V3        V4        V5        V6        V7  \\\n0   0.0 -1.359807 -0.072781  2.536347  1.378155 -0.338321  0.462388  0.239599   \n1   0.0  1.191857  0.266151  0.166480  0.448154  0.060018 -0.082361 -0.078803   \n2   1.0 -1.358354 -1.340163  1.773209  0.379780 -0.503198  1.800499  0.791461   \n3   1.0 -0.966272 -0.185226  1.792993 -0.863291 -0.010309  1.247203  0.237609   \n4   2.0 -1.158233  0.877737  1.548718  0.403034 -0.407193  0.095921  0.592941   \n\n         V8        V9  ...       V21       V22       V23       V24       V25  \\\n0  0.098698  0.363787  ... -0.018307  0.277838 -0.110474  0.066928  0.128539   \n1  0.085102 -0.255425  ... -0.225775 -0.638672  0.101288 -0.339846  0.167170   \n2  0.247676 -1.514654  ...  0.247998  0.771679  0.909412 -0.689281 -0.327642   \n3  0.377436 -1.387024  ... -0.108300  0.005274 -0.190321 -1.175575  0.647376   \n4 -0.270533  0.817739  ... -0.009431  0.798278 -0.137458  0.141267 -0.206010   \n\n        V26       V27       V28  Amount  Class  \n0 -0.189115  0.133558 -0.021053  149.62      0  \n1  0.125895 -0.008983  0.014724    2.69      0  \n2 -0.139097 -0.055353 -0.059752  378.66      0  \n3 -0.221929  0.062723  0.061458  123.50      0  \n4  0.502292  0.219422  0.215153   69.99      0  \n\n[5 rows x 31 columns]"
     },
     "execution_count": 53,
     "metadata": {},
     "output_type": "execute_result"
    }
   ],
   "source": [
    "data = pd.read_csv('../data/raw/creditcard.csv.zip')\n",
    "data.head()"
   ]
  },
  {
   "cell_type": "code",
   "execution_count": 54,
   "metadata": {},
   "outputs": [
    {
     "data": {
      "text/plain": "(284807, 31)"
     },
     "execution_count": 54,
     "metadata": {},
     "output_type": "execute_result"
    }
   ],
   "source": [
    "data.shape"
   ]
  },
  {
   "cell_type": "code",
   "execution_count": 78,
   "metadata": {},
   "outputs": [
    {
     "data": {
      "text/plain": "Time      0\nV1        0\nV2        0\nV3        0\nV4        0\nV5        0\nV6        0\nV7        0\nV8        0\nV9        0\nV10       0\nV11       0\nV12       0\nV13       0\nV14       0\nV15       0\nV16       0\nV17       0\nV18       0\nV19       0\nV20       0\nV21       0\nV22       0\nV23       0\nV24       0\nV25       0\nV26       0\nV27       0\nV28       0\nAmount    0\nClass     0\ndtype: int64"
     },
     "execution_count": 78,
     "metadata": {},
     "output_type": "execute_result"
    }
   ],
   "source": [
    "data.isnull().sum()"
   ]
  },
  {
   "cell_type": "code",
   "execution_count": 110,
   "metadata": {},
   "outputs": [],
   "source": [
    "def strat_split(df,target,test_size,seed):\n",
    "        \n",
    "    split = StratifiedShuffleSplit(n_splits=1, test_size=test_size, random_state=seed)\n",
    "    for train_index, test_index in split.split(df, df[f\"{target}\"]):\n",
    "        strat_train_set = df.loc[train_index]\n",
    "        strat_test_set = df.loc[test_index]\n",
    "    return strat_train_set,strat_test_set"
   ]
  },
  {
   "cell_type": "code",
   "execution_count": 111,
   "metadata": {},
   "outputs": [
    {
     "name": "stdout",
     "output_type": "stream",
     "text": [
      "0    284315\n",
      "1       492\n",
      "Name: Class, dtype: int64\n"
     ]
    }
   ],
   "source": [
    "class_vals = data['Class'].value_counts()\n",
    "print(class_vals)\n",
    "# ax = sns.barplot(x=cyl_vals.index,y = cyl_vals.values,data=data)\n",
    "# ax.set(xlabel='count', ylabel='no of cylinders')\n"
   ]
  },
  {
   "cell_type": "code",
   "execution_count": 112,
   "metadata": {},
   "outputs": [
    {
     "data": {
      "image/png": "[encoded data removed]",
      "text/plain": "<Figure size 432x288 with 1 Axes>"
     },
     "metadata": {
      "needs_background": "light"
     },
     "output_type": "display_data"
    }
   ],
   "source": [
    "g = sns.countplot(x='Class',data=data)\n",
    "g.set_yscale(\"log\")\n",
    "# g.set_ylim(0.05, 1000)"
   ]
  },
  {
   "cell_type": "code",
   "execution_count": 113,
   "metadata": {},
   "outputs": [
    {
     "name": "stdout",
     "output_type": "stream",
     "text": [
      "0    284315\n",
      "1       492\n",
      "Name: Class, dtype: int64\n"
     ]
    }
   ],
   "source": [
    "print(data['Class'].value_counts())"
   ]
  },
  {
   "cell_type": "code",
   "execution_count": 114,
   "metadata": {},
   "outputs": [
    {
     "name": "stdout",
     "output_type": "stream",
     "text": [
      "(227845, 31) (56962, 31)\n",
      "0    227451\n",
      "1       394\n",
      "Name: Class, dtype: int64\n",
      "0    56864\n",
      "1       98\n",
      "Name: Class, dtype: int64\n"
     ]
    }
   ],
   "source": [
    "train_data,val_df = strat_split(data,'Class',0.2,42)\n",
    "print(train_data.shape,val_df.shape)\n",
    "train_data_class_vals = train_data['Class'].value_counts()\n",
    "val_class_vals = val_df['Class'].value_counts()\n",
    "print(train_data_class_vals)\n",
    "print(val_class_vals)"
   ]
  },
  {
   "cell_type": "code",
   "execution_count": 120,
   "metadata": {},
   "outputs": [
    {
     "data": {
      "text/html": "<div>\n<style scoped>\n    .dataframe tbody tr th:only-of-type {\n        vertical-align: middle;\n    }\n\n    .dataframe tbody tr th {\n        vertical-align: top;\n    }\n\n    .dataframe thead th {\n        text-align: right;\n    }\n</style>\n<table border=\"1\" class=\"dataframe\">\n  <thead>\n    <tr style=\"text-align: right;\">\n      <th></th>\n      <th>Time</th>\n      <th>V1</th>\n      <th>V2</th>\n      <th>V3</th>\n      <th>V4</th>\n      <th>V5</th>\n      <th>V6</th>\n      <th>V7</th>\n      <th>V8</th>\n      <th>V9</th>\n      <th>...</th>\n      <th>V21</th>\n      <th>V22</th>\n      <th>V23</th>\n      <th>V24</th>\n      <th>V25</th>\n      <th>V26</th>\n      <th>V27</th>\n      <th>V28</th>\n      <th>Amount</th>\n      <th>Class</th>\n    </tr>\n  </thead>\n  <tbody>\n    <tr>\n      <th>0</th>\n      <td>161919.0</td>\n      <td>1.946747</td>\n      <td>-0.752526</td>\n      <td>-1.355130</td>\n      <td>-0.661630</td>\n      <td>1.502822</td>\n      <td>4.024933</td>\n      <td>-1.479661</td>\n      <td>1.139880</td>\n      <td>1.406819</td>\n      <td>...</td>\n      <td>0.076197</td>\n      <td>0.297537</td>\n      <td>0.307915</td>\n      <td>0.690980</td>\n      <td>-0.350316</td>\n      <td>-0.388907</td>\n      <td>0.077641</td>\n      <td>-0.032248</td>\n      <td>7.32</td>\n      <td>0</td>\n    </tr>\n    <tr>\n      <th>1</th>\n      <td>124477.0</td>\n      <td>2.035149</td>\n      <td>-0.048880</td>\n      <td>-3.058693</td>\n      <td>0.247945</td>\n      <td>2.943487</td>\n      <td>3.298697</td>\n      <td>-0.002192</td>\n      <td>0.674782</td>\n      <td>0.045826</td>\n      <td>...</td>\n      <td>0.038628</td>\n      <td>0.228197</td>\n      <td>0.035542</td>\n      <td>0.707090</td>\n      <td>0.512885</td>\n      <td>-0.471198</td>\n      <td>0.002520</td>\n      <td>-0.069002</td>\n      <td>2.99</td>\n      <td>0</td>\n    </tr>\n    <tr>\n      <th>2</th>\n      <td>41191.0</td>\n      <td>-0.991920</td>\n      <td>0.603193</td>\n      <td>0.711976</td>\n      <td>-0.992425</td>\n      <td>-0.825838</td>\n      <td>1.956261</td>\n      <td>-2.212603</td>\n      <td>-5.037523</td>\n      <td>0.000772</td>\n      <td>...</td>\n      <td>-2.798352</td>\n      <td>0.109526</td>\n      <td>-0.436530</td>\n      <td>-0.932803</td>\n      <td>0.826684</td>\n      <td>0.913773</td>\n      <td>0.038049</td>\n      <td>0.185340</td>\n      <td>175.10</td>\n      <td>0</td>\n    </tr>\n    <tr>\n      <th>3</th>\n      <td>132624.0</td>\n      <td>2.285718</td>\n      <td>-1.500239</td>\n      <td>-0.747565</td>\n      <td>-1.668119</td>\n      <td>-1.394143</td>\n      <td>-0.350339</td>\n      <td>-1.427984</td>\n      <td>0.010010</td>\n      <td>-1.118447</td>\n      <td>...</td>\n      <td>-0.139670</td>\n      <td>0.077013</td>\n      <td>0.208310</td>\n      <td>-0.538236</td>\n      <td>-0.278032</td>\n      <td>-0.162068</td>\n      <td>0.018045</td>\n      <td>-0.063005</td>\n      <td>6.10</td>\n      <td>0</td>\n    </tr>\n    <tr>\n      <th>4</th>\n      <td>59359.0</td>\n      <td>-0.448747</td>\n      <td>-1.011440</td>\n      <td>0.115903</td>\n      <td>-3.454854</td>\n      <td>0.715771</td>\n      <td>-0.147490</td>\n      <td>0.504347</td>\n      <td>-0.113817</td>\n      <td>-0.044782</td>\n      <td>...</td>\n      <td>-0.243245</td>\n      <td>-0.173298</td>\n      <td>-0.006692</td>\n      <td>-1.362383</td>\n      <td>-0.292234</td>\n      <td>-0.144622</td>\n      <td>-0.032580</td>\n      <td>-0.064194</td>\n      <td>86.10</td>\n      <td>0</td>\n    </tr>\n  </tbody>\n</table>\n<p>5 rows × 31 columns</p>\n</div>",
      "text/plain": "       Time        V1        V2        V3        V4        V5        V6  \\\n0  161919.0  1.946747 -0.752526 -1.355130 -0.661630  1.502822  4.024933   \n1  124477.0  2.035149 -0.048880 -3.058693  0.247945  2.943487  3.298697   \n2   41191.0 -0.991920  0.603193  0.711976 -0.992425 -0.825838  1.956261   \n3  132624.0  2.285718 -1.500239 -0.747565 -1.668119 -1.394143 -0.350339   \n4   59359.0 -0.448747 -1.011440  0.115903 -3.454854  0.715771 -0.147490   \n\n         V7        V8        V9  ...       V21       V22       V23       V24  \\\n0 -1.479661  1.139880  1.406819  ...  0.076197  0.297537  0.307915  0.690980   \n1 -0.002192  0.674782  0.045826  ...  0.038628  0.228197  0.035542  0.707090   \n2 -2.212603 -5.037523  0.000772  ... -2.798352  0.109526 -0.436530 -0.932803   \n3 -1.427984  0.010010 -1.118447  ... -0.139670  0.077013  0.208310 -0.538236   \n4  0.504347 -0.113817 -0.044782  ... -0.243245 -0.173298 -0.006692 -1.362383   \n\n        V25       V26       V27       V28  Amount  Class  \n0 -0.350316 -0.388907  0.077641 -0.032248    7.32      0  \n1  0.512885 -0.471198  0.002520 -0.069002    2.99      0  \n2  0.826684  0.913773  0.038049  0.185340  175.10      0  \n3 -0.278032 -0.162068  0.018045 -0.063005    6.10      0  \n4 -0.292234 -0.144622 -0.032580 -0.064194   86.10      0  \n\n[5 rows x 31 columns]"
     },
     "execution_count": 120,
     "metadata": {},
     "output_type": "execute_result"
    }
   ],
   "source": [
    "train_data = train_data.reset_index(drop=True)\n",
    "train_data.head()"
   ]
  },
  {
   "cell_type": "code",
   "execution_count": 121,
   "metadata": {},
   "outputs": [
    {
     "name": "stdout",
     "output_type": "stream",
     "text": [
      "(182276, 31) (45569, 31)\n",
      "0    181961\n",
      "1       315\n",
      "Name: Class, dtype: int64\n",
      "0    45490\n",
      "1       79\n",
      "Name: Class, dtype: int64\n"
     ]
    }
   ],
   "source": [
    "train_df,test_df = strat_split(train_data,'Class',0.2,42)\n",
    "print(train_df.shape,test_df.shape)\n",
    "train_class_vals = train_df['Class'].value_counts()\n",
    "test_class_vals = test_df['Class'].value_counts()\n",
    "print(train_class_vals)\n",
    "print(test_class_vals)"
   ]
  },
  {
   "cell_type": "code",
   "execution_count": 115,
   "metadata": {},
   "outputs": [],
   "source": [
    "# def is_balanced_splitting(y):\n",
    "#     counts = np.bincount(y)\n",
    "#     return counts[1] / (sum(counts))\n",
    "# print('Percentage of FRAUD instances in Training Set : {}'.format(is_balanced_splitting(train_df.Class) * 100))\n",
    "# print('Percentage of FRAUD instances in Testing Set : {}'.format(is_balanced_splitting(test_df.Class) * 100))\n",
    "# print('Percentage of FRAUD instances in Validation set : {}'.format(is_balanced_splitting(val_df.Class) * 100))"
   ]
  },
  {
   "cell_type": "markdown",
   "metadata": {},
   "source": [
    "# Training"
   ]
  },
  {
   "cell_type": "code",
   "execution_count": 143,
   "metadata": {},
   "outputs": [],
   "source": [
    "x_train = train_df.drop('Class',axis=1)\n",
    "y_train = train_df['Class']\n",
    "\n",
    "x_test = test_df.drop('Class',axis=1)\n",
    "y_test = test_df['Class']\n",
    "\n",
    "x_val = val_df.drop('Class',axis=1)\n",
    "y_val = val_df['Class']\n"
   ]
  },
  {
   "cell_type": "code",
   "execution_count": 144,
   "metadata": {},
   "outputs": [],
   "source": [
    "from sklearn.linear_model import LogisticRegression\n",
    "log_reg= LogisticRegression(max_iter=1000)\n",
    "log_reg.fit(x_train,y_train)\n",
    "y_pred=log_reg.predict(x_test)\n",
    "y_val_pred = log_reg.predict(x_val)"
   ]
  },
  {
   "cell_type": "markdown",
   "metadata": {},
   "source": [
    "# Testing"
   ]
  },
  {
   "cell_type": "code",
   "execution_count": 125,
   "metadata": {},
   "outputs": [
    {
     "data": {
      "text/plain": "<AxesSubplot:xlabel='Predicted', ylabel='Actual'>"
     },
     "execution_count": 125,
     "metadata": {},
     "output_type": "execute_result"
    },
    {
     "data": {
      "image/png": "[encoded data removed]",
      "text/plain": "<Figure size 432x288 with 2 Axes>"
     },
     "metadata": {
      "needs_background": "light"
     },
     "output_type": "display_data"
    }
   ],
   "source": [
    "confusion_matrix = pd.crosstab(y_test, y_pred, rownames=['Actual'], colnames=['Predicted'])\n",
    "sns.heatmap(confusion_matrix, annot=True)"
   ]
  },
  {
   "cell_type": "code",
   "execution_count": 137,
   "metadata": {},
   "outputs": [
    {
     "name": "stdout",
     "output_type": "stream",
     "text": [
      "Predicted      0   1\n",
      "Actual              \n",
      "0          45478  12\n",
      "1             37  42\n"
     ]
    }
   ],
   "source": [
    "print(confusion_matrix)"
   ]
  },
  {
   "cell_type": "code",
   "execution_count": 135,
   "metadata": {},
   "outputs": [
    {
     "name": "stdout",
     "output_type": "stream",
     "text": [
      "              precision    recall  f1-score   support\n",
      "\n",
      "           0       1.00      1.00      1.00     45490\n",
      "           1       0.78      0.53      0.63        79\n",
      "\n",
      "    accuracy                           1.00     45569\n",
      "   macro avg       0.89      0.77      0.82     45569\n",
      "weighted avg       1.00      1.00      1.00     45569\n",
      "\n"
     ]
    }
   ],
   "source": [
    "print(classification_report(y_test,y_pred))"
   ]
  },
  {
   "cell_type": "code",
   "execution_count": 132,
   "metadata": {},
   "outputs": [
    {
     "data": {
      "image/png": "[encoded data removed]",
      "text/plain": "<Figure size 432x288 with 1 Axes>"
     },
     "metadata": {
      "needs_background": "light"
     },
     "output_type": "display_data"
    }
   ],
   "source": [
    "#Plotting the ROC-AUC Curve\n",
    "false_pos_rate, true_pos_rate, thresholds = roc_curve(y_test, y_pred)\n",
    "roc_auc = auc(false_pos_rate, true_pos_rate,)\n",
    "\n",
    "plt.plot(false_pos_rate, true_pos_rate, linewidth = 5, label = 'AUC = %0.3f'% roc_auc)\n",
    "plt.plot([0,1],[0,1], linewidth = 5)\n",
    "\n",
    "plt.xlim([-0.01, 1])\n",
    "plt.ylim([0, 1.01])\n",
    "plt.legend(loc='lower right')\n",
    "plt.title('Receiver operating characteristic curve (ROC) Test')\n",
    "plt.ylabel('True Positive Rate')\n",
    "plt.xlabel('False Positive Rate')\n",
    "plt.show()"
   ]
  },
  {
   "cell_type": "markdown",
   "metadata": {},
   "source": [
    "# Validation"
   ]
  },
  {
   "cell_type": "code",
   "execution_count": 145,
   "metadata": {},
   "outputs": [
    {
     "name": "stdout",
     "output_type": "stream",
     "text": [
      "              precision    recall  f1-score   support\n",
      "\n",
      "           0       1.00      1.00      1.00     56864\n",
      "           1       0.82      0.68      0.74        98\n",
      "\n",
      "    accuracy                           1.00     56962\n",
      "   macro avg       0.91      0.84      0.87     56962\n",
      "weighted avg       1.00      1.00      1.00     56962\n",
      "\n"
     ]
    }
   ],
   "source": [
    "print(classification_report(y_val,y_val_pred))"
   ]
  },
  {
   "cell_type": "code",
   "execution_count": 147,
   "metadata": {},
   "outputs": [
    {
     "name": "stdout",
     "output_type": "stream",
     "text": [
      "Predicted      0   1\n",
      "Actual              \n",
      "0          45478  12\n",
      "1             37  42\n"
     ]
    }
   ],
   "source": [
    "print(confusion_matrix)"
   ]
  },
  {
   "cell_type": "code",
   "execution_count": 146,
   "metadata": {},
   "outputs": [
    {
     "data": {
      "image/png": "[encoded data removed]",
      "text/plain": "<Figure size 432x288 with 1 Axes>"
     },
     "metadata": {
      "needs_background": "light"
     },
     "output_type": "display_data"
    }
   ],
   "source": [
    "#Plotting the ROC-AUC Curve\n",
    "false_pos_rate, true_pos_rate, thresholds = roc_curve(y_test, y_pred)\n",
    "roc_auc = auc(false_pos_rate, true_pos_rate,)\n",
    "\n",
    "plt.plot(false_pos_rate, true_pos_rate, linewidth = 5, label = 'AUC = %0.3f'% roc_auc)\n",
    "plt.plot([0,1],[0,1], linewidth = 5)\n",
    "\n",
    "plt.xlim([-0.01, 1])\n",
    "plt.ylim([0, 1.01])\n",
    "plt.legend(loc='lower right')\n",
    "plt.title('Receiver operating characteristic curve (ROC) Validation')\n",
    "plt.ylabel('True Positive Rate')\n",
    "plt.xlabel('False Positive Rate')\n",
    "plt.show()"
   ]
  },
  {
   "cell_type": "code",
   "execution_count": null,
   "metadata": {},
   "outputs": [],
   "source": []
  }
 ],
 "metadata": {
  "interpreter": {
   "hash": "57c581285b6b64bb1150582186fb7c43d3aef949aeb622b2ed183a67e0d2b4a9"
  },
  "kernelspec": {
   "display_name": "Python 3.8.5 64-bit ('mlenv': venv)",
   "name": "python3"
  },
  "language_info": {
   "codemirror_mode": {
    "name": "ipython",
    "version": 3
   },
   "file_extension": ".py",
   "mimetype": "text/x-python",
   "name": "python",
   "nbconvert_exporter": "python",
   "pygments_lexer": "ipython3",
   "version": "3.8.5"
  }
 },
 "nbformat": 4,
 "nbformat_minor": 2
}